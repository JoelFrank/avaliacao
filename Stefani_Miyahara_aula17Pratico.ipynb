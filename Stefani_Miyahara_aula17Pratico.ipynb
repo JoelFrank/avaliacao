{
 "cells": [
  {
   "cell_type": "code",
   "execution_count": 1,
   "id": "2baae565",
   "metadata": {},
   "outputs": [],
   "source": [
    "import numpy as np\n",
    "import random"
   ]
  },
  {
   "cell_type": "code",
   "execution_count": 15,
   "id": "309d1f54",
   "metadata": {},
   "outputs": [
    {
     "name": "stdout",
     "output_type": "stream",
     "text": [
      "[[], ['fedor'], ['wumpus', 'brisa'], ['fedor', 'abismo']]\n",
      "[[], ['brisa', 'ouro'], ['fedor', 'abismo'], ['brisa']]\n",
      "[[], [], ['brisa'], ['abismo']]\n",
      "[[], [], [], ['brisa']]\n"
     ]
    }
   ],
   "source": [
    "ambiente = [[[], [], [], []], \n",
    "            [[], [], [], []],\n",
    "            [[], [], [], []],\n",
    "            [[], [], [], []]]\n",
    "\n",
    "posicoes = [[l, c] for l in range(3) for c in range(1, 4)]\n",
    "wumpus = random.sample(posicoes, 1)\n",
    "\n",
    "ambiente[wumpus[0][0]][wumpus[0][1]].append(\"wumpus\")\n",
    "\n",
    "if wumpus[0][0] != 0:\n",
    "    ambiente[wumpus[0][0] - 1][wumpus[0][1]].append(\"fedor\")\n",
    "if wumpus[0][0] != 3:\n",
    "    ambiente[wumpus[0][0] + 1][wumpus[0][1]].append(\"fedor\")\n",
    "if wumpus[0][1] != 0:\n",
    "    ambiente[wumpus[0][0]][wumpus[0][1] - 1].append(\"fedor\")\n",
    "if wumpus[0][1] != 3:\n",
    "    ambiente[wumpus[0][0]][wumpus[0][1] + 1].append(\"fedor\")\n",
    "\n",
    "posicoes.remove(wumpus[0])\n",
    "\n",
    "abismo = random.sample(posicoes, 3)\n",
    "\n",
    "for i in range(0, 3):\n",
    "    ambiente[abismo[i][0]][abismo[i][1]].append(\"abismo\")\n",
    "\n",
    "    if abismo[i][0] != 0:\n",
    "        if \"brisa\" not in ambiente[abismo[i][0] - 1][abismo[i][1]]:\n",
    "            ambiente[abismo[i][0] - 1][abismo[i][1]].append(\"brisa\")\n",
    "    if abismo[i][0] != 3:\n",
    "        if \"brisa\" not in ambiente[abismo[i][0] + 1][abismo[i][1]]:\n",
    "            ambiente[abismo[i][0] + 1][abismo[i][1]].append(\"brisa\")\n",
    "    if abismo[i][1] != 0:\n",
    "        if \"brisa\" not in ambiente[abismo[i][0]][abismo[i][1] - 1]:\n",
    "            ambiente[abismo[i][0]][abismo[i][1] - 1].append(\"brisa\")\n",
    "    if abismo[i][1] != 3:\n",
    "        if \"brisa\" not in ambiente[abismo[i][0]][abismo[i][1] + 1]:\n",
    "            ambiente[abismo[i][0]][abismo[i][1] + 1].append(\"brisa\")\n",
    "\n",
    "for i in abismo:\n",
    "    posicoes.remove(i)\n",
    "\n",
    "ouro = random.sample(posicoes, 1)\n",
    "\n",
    "ambiente[ouro[0][0]][ouro[0][1]].append(\"ouro\")\n",
    "\n",
    "for i in ambiente:\n",
    "    print(i)"
   ]
  },
  {
   "cell_type": "code",
   "execution_count": 3,
   "id": "7f7e9dd4",
   "metadata": {},
   "outputs": [],
   "source": [
    "n_states = 16     # número de casas\n",
    "n_actions = 4     # para cima, para baixo, para esquerda e para direita\n",
    "learning_rate = 0.1\n",
    "discount_factor = 0.9\n",
    "exploration_prob = 0.2\n",
    "n_episodes = 10     # número de episódios de treinamento\n",
    "\n",
    "Q = np.zeros((n_states, n_actions))     # inicializando a tabela Q"
   ]
  },
  {
   "cell_type": "code",
   "execution_count": 4,
   "id": "0a2633da",
   "metadata": {},
   "outputs": [],
   "source": [
    "# os índices da numeração das casas do ambiente são os estados da tabela Q\n",
    "def index_to_coords(index):\n",
    "    return divmod(index, 4)\n",
    "# retorna o quociente e o resto da divisão do índice por 4\n",
    "# que correspondem às coordenadas x e y do índice, respectivamente"
   ]
  },
  {
   "cell_type": "code",
   "execution_count": 5,
   "id": "2015ef90",
   "metadata": {},
   "outputs": [],
   "source": [
    "def coords_to_index(i, j):\n",
    "    return i * 4 + j"
   ]
  },
  {
   "cell_type": "code",
   "execution_count": 6,
   "id": "2ba80924",
   "metadata": {},
   "outputs": [],
   "source": [
    "# função para escolher uma ação com base na política epsilon greedy\n",
    "def choose_action(state):\n",
    "    # gera um número aleatório entre 0 e 1, se ele for menor que exploration_prob (probabilidade de explorar aleatoriamente), é escolhida uma ação aleatória\n",
    "    if random.uniform(0, 1) < exploration_prob:\n",
    "        return random.choice(range(n_actions))\n",
    "    # caso contrário, ele escolhe a ação com maior valor Q naquele estado (está fora da probabilidade de escolha de ação aleatória)\n",
    "    else:\n",
    "        return np.argmax(Q[state, :])     # retorna o índice do maior valor"
   ]
  },
  {
   "cell_type": "code",
   "execution_count": 7,
   "id": "350d12da",
   "metadata": {},
   "outputs": [],
   "source": [
    "# determina o próximo estado com a partir da ação tomada\n",
    "def next_state(current_state, action):\n",
    "    act = action\n",
    "    i, j = index_to_coords(current_state)\n",
    "    if act == 0 and i > 0:\n",
    "        i -= 1     # cima\n",
    "    elif act == 1 and j < 3:\n",
    "        j += 1     # direita\n",
    "    elif act == 2 and i < 3:\n",
    "        i += 1     # baixo\n",
    "    elif act == 3 and j > 0:\n",
    "        j -= 1     # esquerda\n",
    "    return coords_to_index(i, j)"
   ]
  },
  {
   "cell_type": "code",
   "execution_count": 16,
   "id": "825e6735",
   "metadata": {},
   "outputs": [],
   "source": [
    "x, y = (3, 0)\n",
    "state = coords_to_index(x, y)     # estado inicial\n",
    "\n",
    "for episode in range(n_episodes):\n",
    "    while \"ouro\" not in ambiente[x][y]:     # enquanto não chegar ao destino\n",
    "        action = choose_action(state)\n",
    "        next = next_state(state, action)\n",
    "        x_next, y_next = index_to_coords(next)\n",
    "\n",
    "        if \"ouro\" in ambiente[x_next][y_next]:\n",
    "            reward = 10\n",
    "        elif \"wumpus\" in ambiente[x_next][y_next] or \"abismo\" in ambiente[x_next][y_next]:\n",
    "            reward = -10\n",
    "        elif \"fedor\" in ambiente[x_next][y_next] or \"brisa\" in ambiente[x_next][y_next] or next == state:\n",
    "        # com next == state penaliza quando uma ação que não pode ser tomada é escolhida e o agente se mantém no mesmo estado\n",
    "            reward = -1\n",
    "        else:\n",
    "            reward = 0\n",
    "\n",
    "        Q[state, action] = Q[state, action] + learning_rate * (reward + discount_factor * np.max(Q[next, :]) - Q[state, action])\n",
    "        state = next\n",
    "        x, y = index_to_coords(state)"
   ]
  },
  {
   "cell_type": "code",
   "execution_count": 17,
   "id": "34b009b8",
   "metadata": {},
   "outputs": [
    {
     "name": "stdout",
     "output_type": "stream",
     "text": [
      "Política ótima (ações 0=cima, 1=direita, 2=baixo, 3=esquerda):\n",
      "[[1 2 1 0]\n",
      " [1 0 0 0]\n",
      " [2 1 0 0]\n",
      " [0 0 0 0]]\n"
     ]
    }
   ],
   "source": [
    "optimal_policy = np.argmax(Q, axis=1)\n",
    "# retorna a ação (coluna) com maior valor Q para cada estado (linha)\n",
    "print(\"Política ótima (ações 0=cima, 1=direita, 2=baixo, 3=esquerda):\")\n",
    "print(optimal_policy.reshape(4, 4))\n",
    "# reorganiza o vetor de ações (optimal_policy) em uma matriz 4x4, correspondente à grade do ambiente\n",
    "# assim, na posição de cada casa do ambiente fica o valor correspondente à melhor ação"
   ]
  },
  {
   "cell_type": "code",
   "execution_count": 18,
   "id": "cd4fd65f",
   "metadata": {},
   "outputs": [
    {
     "name": "stdout",
     "output_type": "stream",
     "text": [
      "[[], ['fedor'], ['wumpus', 'brisa'], ['fedor', 'abismo']]\n",
      "[[], ['brisa', 'ouro'], ['fedor', 'abismo'], ['brisa']]\n",
      "[[], [], ['brisa'], ['abismo']]\n",
      "[[], [], [], ['brisa']]\n"
     ]
    }
   ],
   "source": [
    "for i in ambiente:\n",
    "    print(i)"
   ]
  }
 ],
 "metadata": {
  "kernelspec": {
   "display_name": "Python 3",
   "language": "python",
   "name": "python3"
  },
  "language_info": {
   "codemirror_mode": {
    "name": "ipython",
    "version": 3
   },
   "file_extension": ".py",
   "mimetype": "text/x-python",
   "name": "python",
   "nbconvert_exporter": "python",
   "pygments_lexer": "ipython3",
   "version": "3.11.9"
  }
 },
 "nbformat": 4,
 "nbformat_minor": 5
}
